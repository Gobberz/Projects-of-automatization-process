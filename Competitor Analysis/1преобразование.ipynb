{
 "cells": [
  {
   "cell_type": "code",
   "execution_count": 1,
   "id": "74b97440",
   "metadata": {},
   "outputs": [
    {
     "name": "stdout",
     "output_type": "stream",
     "text": [
      "создан файл - 3.035627603530884\n"
     ]
    }
   ],
   "source": [
    "import pandas as pd\n",
    "import time\n",
    "\n",
    "start = time.time()\n",
    "\n",
    "\n",
    "comp_name = \"comp_f.xlsx\"\n",
    "\n",
    "comp = pd.read_excel(comp_name, dtype=\"str\")\n",
    "\n",
    "tk = pd.read_excel(\"(правила).xlsx\", sheet_name=\"тк\", dtype=\"str\")\n",
    "\n",
    "comp[\"Дата мониторинга\"] = pd.to_datetime(comp[\"Дата мониторинга\"])\n",
    "comp[\"Номер недели\"] = comp[\"Дата мониторинга\"].apply(lambda x: x.isocalendar().week).astype(str)\n",
    "\n",
    "\n",
    "comp[\"РПЦ\"] = comp.apply(lambda row: \";\".join(row[[\"Регулярная цена конкурента\", \"Сеть конкурента\",\"Номер недели\"]])\n",
    "                         if pd.notna(row[\"Регулярная цена конкурента\"]) else None, axis=1)\n",
    "\n",
    "comp[\"АПЦ\"] = comp.apply(lambda row: \";\".join(row[[\"Акционная цена конкурента\", \"Сеть конкурента\",\"Номер недели\"]])\n",
    "                         if pd.notna(row[\"Акционная цена конкурента\"]) else None, axis=1)\n",
    "\n",
    "\n",
    "comp = comp[[\"Кластер\", \"Код товара\", \"Наименование товара\", \"РПЦ\", \"АПЦ\"]]\n",
    "\n",
    "comp= comp.merge(tk[[\"кластер\", \"со\"]].drop_duplicates(subset=\"кластер\"), how='left', \n",
    "                 left_on=\"Кластер\", right_on=\"кластер\").drop(\"кластер\", axis=1).rename(columns={\"со\":\"СО\"})\n",
    "\n",
    "# comp[\"id\"] = comp.groupby([\"Код товара\", \"Наименование товара\", \"Кластер\", \"СО\"]).cumcount()+1\n",
    "# display(comp)\n",
    "\n",
    "prices_list_col = (comp.groupby([\"Код товара\", \"Наименование товара\"])\n",
    "                   .agg({\"РПЦ\": lambda x: list(filter(pd.notna, x)),\n",
    "                         \"АПЦ\": lambda x: list(filter(pd.notna, x))}).reset_index())\n",
    "\n",
    "rp_cols = (pd.DataFrame(prices_list_col[\"РПЦ\"].tolist(), columns=\n",
    "                       [f\"РПЦ {i+1}\" for i in range(prices_list_col[\"РПЦ\"].apply(len).max())]))\n",
    "\n",
    "pp_cols = (pd.DataFrame(prices_list_col[\"АПЦ\"].tolist(), columns=\n",
    "                       [f\"АПЦ {i+1}\" for i in range(prices_list_col[\"АПЦ\"].apply(len).max())]))\n",
    "           \n",
    "comp_grouped = pd.concat([prices_list_col[[\"Код товара\", \"Наименование товара\"]],\n",
    "                         rp_cols , pp_cols], axis=1)\n",
    "\n",
    "# display(comp_grouped)\n",
    "\n",
    "comp_grouped.to_excel(\"результат.xlsx\",\n",
    "                 index=False)\n",
    "print ('создан файл - ' + str(time.time() - start))"
   ]
  },
  {
   "cell_type": "code",
   "execution_count": 4,
   "id": "1009e0fa",
   "metadata": {},
   "outputs": [
    {
     "name": "stdout",
     "output_type": "stream",
     "text": [
      "создан файл - 2.110428810119629\n"
     ]
    }
   ],
   "source": [
    "import pandas as pd\n",
    "import time\n",
    "\n",
    "start = time.time()\n",
    "\n",
    "\n",
    "comp_name = \"comp_f.xlsx\"\n",
    "\n",
    "comp = pd.read_excel(comp_name, dtype=\"str\")\n",
    "\n",
    "tk = pd.read_excel(\"(правила).xlsx\", sheet_name=\"тк\", dtype=\"str\")\n",
    "\n",
    "comp[\"Дата мониторинга\"] = pd.to_datetime(comp[\"Дата мониторинга\"])\n",
    "comp[\"Номер недели\"] = comp[\"Дата мониторинга\"].apply(lambda x: x.isocalendar().week).astype(str)\n",
    "\n",
    "\n",
    "comp= comp.merge(tk[[\"кластер\", \"со\"]].drop_duplicates(subset=\"кластер\"), how='left', \n",
    "                 left_on=\"Кластер\", right_on=\"кластер\").drop(\"кластер\", axis=1).rename(columns={\"со\":\"СО\"})\n",
    "\n",
    "\n",
    "\n",
    "comp[\"РПЦ\"] = comp.apply(lambda row: \";\".join(row[[\"Регулярная цена конкурента\", \"Сеть конкурента\",\"Номер недели\"]])\n",
    "                         if pd.notna(row[\"Регулярная цена конкурента\"]) else None, axis=1)\n",
    "\n",
    "comp[\"АПЦ\"] = comp.apply(lambda row: \";\".join(row[[\"Акционная цена конкурента\", \"Сеть конкурента\",\"Номер недели\"]])\n",
    "                         if pd.notna(row[\"Акционная цена конкурента\"]) else None, axis=1)\n",
    "\n",
    "\n",
    "comp = comp[[\"Кластер\", \"СО\", \"Код товара\", \"Наименование товара\", \"РПЦ\", \"АПЦ\"]]\n",
    "\n",
    "\n",
    "prices_list_col = (comp.groupby([\"Код товара\", \"Наименование товара\"])\n",
    "                   .agg({\"РПЦ\": lambda x: list(filter(pd.notna, x)),\n",
    "                         \"АПЦ\": lambda x: list(filter(pd.notna, x))}).reset_index())\n",
    "\n",
    "rp_cols = (pd.DataFrame(prices_list_col[\"РПЦ\"].tolist(), columns=\n",
    "                       [f\"РПЦ {i+1}\" for i in range(prices_list_col[\"РПЦ\"].apply(len).max())]))\n",
    "\n",
    "pp_cols = (pd.DataFrame(prices_list_col[\"АПЦ\"].tolist(), columns=\n",
    "                       [f\"АПЦ {i+1}\" for i in range(prices_list_col[\"АПЦ\"].apply(len).max())]))\n",
    "           \n",
    "comp_grouped = pd.concat([prices_list_col[[\"Код товара\", \"Наименование товара\", \"Кластер\", \"СО\"]],\n",
    "                         rp_cols , pp_cols], axis=1)\n",
    "\n",
    "# display(comp_grouped)\n",
    "\n",
    "comp_grouped.to_excel(\"результат по кластеру.xlsx\",\n",
    "                 index=False)\n",
    "print ('создан файл - ' + str(time.time() - start))"
   ]
  },
  {
   "cell_type": "code",
   "execution_count": null,
   "id": "f7f1e178",
   "metadata": {},
   "outputs": [],
   "source": []
  }
 ],
 "metadata": {
  "kernelspec": {
   "display_name": "Python 3 (ipykernel)",
   "language": "python",
   "name": "python3"
  },
  "language_info": {
   "codemirror_mode": {
    "name": "ipython",
    "version": 3
   },
   "file_extension": ".py",
   "mimetype": "text/x-python",
   "name": "python",
   "nbconvert_exporter": "python",
   "pygments_lexer": "ipython3",
   "version": "3.10.9"
  }
 },
 "nbformat": 4,
 "nbformat_minor": 5
}
