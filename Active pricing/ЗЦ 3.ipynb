{
 "cells": [
  {
   "cell_type": "code",
   "execution_count": 1,
   "id": "675479fd",
   "metadata": {},
   "outputs": [
    {
     "name": "stdout",
     "output_type": "stream",
     "text": [
      "создан файл - 1.4104835987091064\n"
     ]
    }
   ],
   "source": [
    "import pandas as pd\n",
    "import time\n",
    "\n",
    "start = time.time()\n",
    "\n",
    "input_file_name = \"зц.xlsx\"\n",
    "\n",
    "output_file_name = \"costs_cluster_20240411_FF_SFO+UFO_15.csv\"\n",
    "\n",
    "\n",
    "pp = pd.read_excel(input_file_name, dtype=\"str\")\n",
    "\n",
    "\n",
    "pp.iloc[:, 0] = \"0\" * 12 + pp.iloc[:, 0].str[-6:]\n",
    "\n",
    "\n",
    "pp.to_csv(output_file_name, index=False, sep=\";\")\n",
    "print ('создан файл - ' + str(time.time() - start))"
   ]
  },
  {
   "cell_type": "code",
   "execution_count": 2,
   "id": "85346415",
   "metadata": {},
   "outputs": [
    {
     "name": "stdout",
     "output_type": "stream",
     "text": [
      "создан файл - 3.2342333793640137\n"
     ]
    }
   ],
   "source": [
    "import pandas as pd\n",
    "import time\n",
    "\n",
    "start = time.time()\n",
    "\n",
    "input_file_name = \"new_competitors_2024-04-10-22-47_FF_SFO+UFO_15.xlsx\"\n",
    "\n",
    "output_file_name = \"скр пр.xlsx\"\n",
    "\n",
    "\n",
    "pp_file_name = \"зц.xlsx\"\n",
    "\n",
    "\n",
    "str_columns = [\"Код товара\", \"ID задачи на мониторинг\", \"ID конкурента\"]\n",
    "\n",
    "mf = pd.read_excel(input_file_name,\n",
    "                   dtype={col: str for col in str_columns})\n",
    "\n",
    "mf[\"Код товара\"] = mf[\"Код товара\"].astype(str)\n",
    "\n",
    "pp = pd.read_excel(pp_file_name)\n",
    "\n",
    "tk = pd.read_excel(\"(правила).xlsx\",\n",
    "                   sheet_name=\"тк\",\n",
    "                   dtype=\"str\")\n",
    "\n",
    "\n",
    "pp[\"material_id\"] = pp[\"material_id\"].astype(str)\n",
    "pp[\"cluster_id\"] = pp[\"cluster_id\"].astype(str)\n",
    "\n",
    "\n",
    "\n",
    "hp_check = mf[[\"ID задачи на мониторинг\", \"Код товара\",\"Внешний код товара\", \"ID конкурента\", \n",
    "               \"Кластер\", \"Акционная цена Ленты\", \"Регулярная цена конкурента\", \"EPP\"]]\n",
    "\n",
    "hp_check = hp_check[hp_check[\"Регулярная цена конкурента\"].notna()]\n",
    "hp_check = hp_check.drop_duplicates(subset=[\"Код товара\",\"Кластер\"])\n",
    "\n",
    "\n",
    "hp = (hp_check[[\"Код товара\", \"Кластер\", \"Регулярная цена конкурента\"]]\n",
    "       .groupby([\"Код товара\", \"Кластер\"])[\"Регулярная цена конкурента\"].min().reset_index())\n",
    "\n",
    "\n",
    "\n",
    "\n",
    "hp = hp.merge(tk[[\"номер кластера\", \"кластер\"]], how='left', left_on=\"Кластер\", right_on=\"кластер\")\n",
    "hp = hp.drop_duplicates()\n",
    "\n",
    "\n",
    "hp = hp.merge(pp, how='left', left_on=[\"Код товара\", \"номер кластера\"], right_on=[\"material_id\", \"cluster_id\"])\n",
    "\n",
    "\n",
    "hp[\"сп\"] = hp.apply(lambda row: \"да\" if row[\"Регулярная цена конкурента\"] < row[\"basic_price_amount\"]\n",
    "                   else \"нет\", axis=1)\n",
    "\n",
    "hp = hp.merge(hp_check [[\"Код товара\", \"Кластер\", \"Регулярная цена конкурента\", \"Акционная цена Ленты\",\n",
    "                         \"ID задачи на мониторинг\", \"ID конкурента\", \"EPP\"]], \n",
    "              how='left', left_on=[\"Код товара\", \"Кластер\", \"Регулярная цена конкурента\"], \n",
    "              right_on=[\"Код товара\", \"Кластер\", \"Регулярная цена конкурента\"])\n",
    "\n",
    "\n",
    "hp.to_excel(\"скр пр.xlsx\", index=False)\n",
    "print ('создан файл - ' + str(time.time() - start))"
   ]
  },
  {
   "cell_type": "code",
   "execution_count": null,
   "id": "305644ee",
   "metadata": {},
   "outputs": [],
   "source": []
  }
 ],
 "metadata": {
  "kernelspec": {
   "display_name": "Python 3 (ipykernel)",
   "language": "python",
   "name": "python3"
  },
  "language_info": {
   "codemirror_mode": {
    "name": "ipython",
    "version": 3
   },
   "file_extension": ".py",
   "mimetype": "text/x-python",
   "name": "python",
   "nbconvert_exporter": "python",
   "pygments_lexer": "ipython3",
   "version": "3.10.9"
  }
 },
 "nbformat": 4,
 "nbformat_minor": 5
}
