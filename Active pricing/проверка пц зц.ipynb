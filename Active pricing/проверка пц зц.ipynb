{
 "cells": [
  {
   "cell_type": "code",
   "execution_count": 1,
   "metadata": {
    "colab": {
     "base_uri": "https://localhost:8080/"
    },
    "id": "b7aw6JCfq7g_",
    "outputId": "c5e5d48e-06c8-4d68-faca-46ceda49b1a7",
    "scrolled": false
   },
   "outputs": [
    {
     "name": "stdout",
     "output_type": "stream",
     "text": [
      "...Подготовка уникальных СО и товаров...\n"
     ]
    },
    {
     "name": "stderr",
     "output_type": "stream",
     "text": [
      "C:\\ProgramData\\anaconda3\\lib\\site-packages\\openpyxl\\styles\\stylesheet.py:226: UserWarning: Workbook contains no default style, apply openpyxl's default\n",
      "  warn(\"Workbook contains no default style, apply openpyxl's default\")\n"
     ]
    },
    {
     "name": "stdout",
     "output_type": "stream",
     "text": [
      "...Подготовка уникальных СО и товаров...\n"
     ]
    },
    {
     "name": "stderr",
     "output_type": "stream",
     "text": [
      "C:\\ProgramData\\anaconda3\\lib\\site-packages\\openpyxl\\styles\\stylesheet.py:226: UserWarning: Workbook contains no default style, apply openpyxl's default\n",
      "  warn(\"Workbook contains no default style, apply openpyxl's default\")\n"
     ]
    },
    {
     "name": "stdout",
     "output_type": "stream",
     "text": [
      "Выполнение программы завершено.\n"
     ]
    }
   ],
   "source": [
    "import pandas as pd\n",
    "import numpy as np\n",
    "import math\n",
    "from operator import itemgetter\n",
    "import statistics\n",
    "from datetime import datetime, timedelta\n",
    "import os\n",
    "from pandas.io.excel import ExcelWriter\n",
    "\n",
    "\n",
    "week_number = 26\n",
    "cluster_number = 1\n",
    "\n",
    "for k in range(2):\n",
    "    cluster_name = 'cluster_' + str(week_number) + '_' +  str(k+1) + '.xlsx'\n",
    "    unique_name = 'unique_' + str(week_number) + '.xlsx'\n",
    "\n",
    "\n",
    "\n",
    "\n",
    "    print(\"...Подготовка уникальных СО и товаров...\")\n",
    "    unique_g_o = pd.read_excel(cluster_name,\n",
    "                         skiprows=1,\n",
    "                         usecols='B, O')\n",
    "\n",
    "    unique_g_o = unique_g_o.transpose()\n",
    "    unique_g_o = unique_g_o.values.tolist()\n",
    "    unique_g_o.append([])\n",
    "    for i in range(len(unique_g_o[0])):\n",
    "        unique_g_o[2].append(str(unique_g_o[0][i][6:]))\n",
    "        unique_g_o[0][i] = int(unique_g_o[0][i][6:])\n",
    "\n",
    "\n",
    "\n",
    "\n",
    "    tk_so_cl = pd.read_excel(\"(обязательно).xlsx\",\n",
    "                         sheet_name=\"тк-со-кластер\",\n",
    "                         skiprows=0,\n",
    "                         usecols='A:G',\n",
    "                         dtype=str)\n",
    "\n",
    "    tk_so_cl = tk_so_cl.transpose()\n",
    "    tk_so_cl = tk_so_cl.values.tolist()\n",
    "\n",
    "\n",
    "\n",
    "\n",
    "    goods_number = len(unique_g_o[1])\n",
    "\n",
    "    main_info_columns_number = 7\n",
    "    main_info = [0] * (main_info_columns_number)\n",
    "    for i in range(main_info_columns_number):\n",
    "        main_info[i] = [0] * goods_number\n",
    "\n",
    "    #заменяем тк на со и передаем в основной массив тк и др.\n",
    "    for i in range(goods_number):\n",
    "        main_info[1][i] = unique_g_o[0][i]\n",
    "        unique_g_o[0][i] = str(tk_so_cl[1][tk_so_cl[0].index(str(unique_g_o[0][i]))])\n",
    "        main_info[0][i] = unique_g_o[0][i]\n",
    "        main_info[1][i] = unique_g_o[1][i]\n",
    "\n",
    "\n",
    "    unique_g_o[0] = list(set(unique_g_o[0]))\n",
    "    unique_g_o[1] = list(set((unique_g_o[1])))\n",
    "    unique_g_o[2] = list(set(unique_g_o[2]))\n",
    "    unique_g_o.append([\"BB04\",\"ZB05\"])\n",
    "\n",
    "    for i in range(len(unique_g_o[1])):\n",
    "        unique_g_o[1][i] = str(unique_g_o[1][i])\n",
    "\n",
    "    unique_g_o = pd.DataFrame(unique_g_o)\n",
    "    unique_g_o = unique_g_o.transpose()\n",
    "    \n",
    "\n",
    "    if os.path.exists(unique_name):\n",
    "        with pd.ExcelWriter(unique_name, \n",
    "                            engine=\"openpyxl\", \n",
    "                            mode=\"a\",\n",
    "                            if_sheet_exists=\"replace\") as writer:\n",
    "            unique_g_o.to_excel(writer, sheet_name=str(k+1),index=False)\n",
    "    else:\n",
    "        with pd.ExcelWriter(unique_name, \n",
    "                            engine=\"openpyxl\", \n",
    "                            mode=\"w\") as writer:\n",
    "            unique_g_o.to_excel(writer, sheet_name=str(k+1),index=False)\n",
    "            \n",
    "\n",
    "        \n",
    "     \n",
    "    \n",
    "        \n",
    "\n",
    "################################################\n",
    "print(\"Выполнение программы завершено.\")\n",
    "# print('Созданы файлы - ' + final_name + ', ' + hp_name +', ' + zsd_name + ', ' \n",
    "#       + change_promo_name + ', ' + new_promo_name)\n",
    "\n",
    "#123"
   ]
  },
  {
   "cell_type": "markdown",
   "metadata": {
    "scrolled": true
   },
   "source": [
    "\n",
    "\n",
    "\n",
    "    "
   ]
  },
  {
   "cell_type": "code",
   "execution_count": 22,
   "metadata": {},
   "outputs": [
    {
     "name": "stdout",
     "output_type": "stream",
     "text": [
      "260101505202\n",
      "260101505202\n",
      "True\n",
      "True\n",
      "True\n",
      "True\n"
     ]
    }
   ],
   "source": [
    "\n",
    "# str(main_info[6][i][:main_info[6][i].find(\"_ГМ_\")]) == str(sku_exclude[0][j]) \n",
    "# and str(main_info[7][i]) == (sku_exclude[1][j])\n",
    "\n",
    "print(str(main_info[7][100]))\n",
    "\n",
    "print(str(sku_exclude[1][1800]))\n",
    "\n",
    "print(str(main_info[6][100][:main_info[6][100].find(\"_ГМ_\")]) == str(sku_exclude[0][1800]))\n",
    "print(str(main_info[7][100]) == str(sku_exclude[1][1800]))\n",
    "\n",
    "\n",
    "\n",
    "print(main_info[15][100] > 0)\n",
    "print(len(str(main_info[67][100]))<=3)\n",
    "    \n",
    "    \n",
    "#     main_info[15][i] > 0 and len(str(main_info[67][i])) <= 3\n"
   ]
  },
  {
   "cell_type": "code",
   "execution_count": 6,
   "metadata": {},
   "outputs": [
    {
     "name": "stdout",
     "output_type": "stream",
     "text": [
      "0     NaN\n",
      "1     NaN\n",
      "2     NaN\n",
      "3     NaN\n",
      "4     NaN\n",
      "       ..\n",
      "519   NaN\n",
      "520   NaN\n",
      "521   NaN\n",
      "522   NaN\n",
      "523   NaN\n",
      "Name: 0, Length: 524, dtype: float64\n"
     ]
    }
   ],
   "source": [
    "print(unique_g_o[0])"
   ]
  },
  {
   "cell_type": "code",
   "execution_count": null,
   "metadata": {},
   "outputs": [],
   "source": []
  }
 ],
 "metadata": {
  "colab": {
   "collapsed_sections": [],
   "provenance": []
  },
  "kernelspec": {
   "display_name": "Python 3 (ipykernel)",
   "language": "python",
   "name": "python3"
  },
  "language_info": {
   "codemirror_mode": {
    "name": "ipython",
    "version": 3
   },
   "file_extension": ".py",
   "mimetype": "text/x-python",
   "name": "python",
   "nbconvert_exporter": "python",
   "pygments_lexer": "ipython3",
   "version": "3.10.9"
  }
 },
 "nbformat": 4,
 "nbformat_minor": 1
}
